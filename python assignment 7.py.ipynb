{
 "cells": [
  {
   "cell_type": "code",
   "execution_count": null,
   "id": "c1622eef",
   "metadata": {},
   "outputs": [],
   "source": [
    "#question 1\n",
    "\"\"\"What is the name of the feature responsible for generating Regex objects?\"\"\"\n",
    "#the re.compile() function returns Regex objects."
   ]
  },
  {
   "cell_type": "code",
   "execution_count": null,
   "id": "298694a0",
   "metadata": {},
   "outputs": [],
   "source": [
    "#question 2\n",
    "\"\"\"Why do raw strings often appear in Regex objects?\"\"\"\n",
    "#raw strings are used so that backslashes do not have to be escaped."
   ]
  },
  {
   "cell_type": "code",
   "execution_count": 1,
   "id": "7010cc28",
   "metadata": {},
   "outputs": [
    {
     "data": {
      "text/plain": [
       "'What is the return value of the search() method?'"
      ]
     },
     "execution_count": 1,
     "metadata": {},
     "output_type": "execute_result"
    }
   ],
   "source": [
    "#question3\n",
    "\"\"\"What is the return value of the search() method?\"\"\"\n",
    "#The search() method returns Match objects."
   ]
  },
  {
   "cell_type": "code",
   "execution_count": 2,
   "id": "7f04a66c",
   "metadata": {},
   "outputs": [
    {
     "data": {
      "text/plain": [
       "'From a Match item, how do you get the actual strings that match the pattern?'"
      ]
     },
     "execution_count": 2,
     "metadata": {},
     "output_type": "execute_result"
    }
   ],
   "source": [
    "#question 4\n",
    "\"\"\"From a Match item, how do you get the actual strings that match the pattern?\"\"\"\n",
    "#the group()method return the actual string"
   ]
  },
  {
   "cell_type": "code",
   "execution_count": 3,
   "id": "79f69d0f",
   "metadata": {},
   "outputs": [
    {
     "data": {
      "text/plain": [
       "'In the regex which created from the ;(\\\\d\\\\d\\\\d)-(\\\\d\\\\d\\\\d-\\\\d\\\\d\\\\d\\\\d)&#39;, what does group zero cover?\\nGroup 2? Group 1?'"
      ]
     },
     "execution_count": 3,
     "metadata": {},
     "output_type": "execute_result"
    }
   ],
   "source": [
    "#question5\n",
    "\"\"\"In the regex which created from the ;(\\d\\d\\d)-(\\d\\d\\d-\\d\\d\\d\\d)&#39;, what does group zero cover?\n",
    "Group 2? Group 1?\"\"\"\n",
    "#ans:Group 0 is the entire match, group 1 covers the first set of parentheses, and group 2 covers the second set of parentheses."
   ]
  },
  {
   "cell_type": "code",
   "execution_count": null,
   "id": "9b0ba77e",
   "metadata": {},
   "outputs": [],
   "source": [
    "#question6\n",
    "\"\"\"In standard expression syntax, parentheses and intervals have distinct meanings. How can you tell\n",
    "a regex that you want it to fit real parentheses and periods?\"\"\"\n",
    "#Periods and parentheses can be escaped with a backslash: \\., \\(, and \\).\n",
    "\n"
   ]
  },
  {
   "cell_type": "code",
   "execution_count": null,
   "id": "a08e9103",
   "metadata": {},
   "outputs": [],
   "source": [
    "#question 7\n",
    "\"\"\"The findall() method returns a list of strings or a list of tuples of strings. What makes it return one or the other?\"\"\"\n",
    "#if the regex has no groups, a list of strings is returned. If the regex has groups, a list of tuples of strings is returned."
   ]
  },
  {
   "cell_type": "code",
   "execution_count": null,
   "id": "f36a0b66",
   "metadata": {},
   "outputs": [],
   "source": [
    "#question 8\n",
    "\"\"\"What does the | character signify in regular expressions?\"\"\"\n",
    "#the character (|) means either , or between two grouo"
   ]
  },
  {
   "cell_type": "code",
   "execution_count": null,
   "id": "218cf8e0",
   "metadata": {},
   "outputs": [],
   "source": [
    "#question 9\n",
    "\"\"\"what two things does the ? character signify in regular expressions?\"\"\"\n",
    "#the ? character can either mean \"match zero or one of the preceding group\" or be used to signify nongreedy matching."
   ]
  },
  {
   "cell_type": "code",
   "execution_count": 4,
   "id": "479a5bbb",
   "metadata": {},
   "outputs": [
    {
     "data": {
      "text/plain": [
       "'the (*)can match zero or more{0}while (+)signify it can follow one or more{1}'"
      ]
     },
     "execution_count": 4,
     "metadata": {},
     "output_type": "execute_result"
    }
   ],
   "source": [
    "#question 10\n",
    "\"\"\"What is the difference between the + and * characters in regular expressions\"\"\"\n",
    "\"\"\"the (*)can match zero or more{0}while (+)signify it can follow one or more{1}\"\"\""
   ]
  },
  {
   "cell_type": "code",
   "execution_count": 5,
   "id": "c5349681",
   "metadata": {},
   "outputs": [
    {
     "data": {
      "text/plain": [
       "'{3}matches only three intances of preceding group while{3,5}matches three and five intences of group'"
      ]
     },
     "execution_count": 5,
     "metadata": {},
     "output_type": "execute_result"
    }
   ],
   "source": [
    "#question 11\n",
    "#What is the difference between {3} and {3,5} in regular expression\n",
    "\"\"\"{3}matches only three intances of preceding group while{3,5}matches three and five intences of group\"\"\""
   ]
  },
  {
   "cell_type": "code",
   "execution_count": 6,
   "id": "db5c2e56",
   "metadata": {},
   "outputs": [
    {
     "data": {
      "text/plain": [
       "'\\\\d mean single digit ,\\\\w means signle words,\\\\s means single space are shrtened classes'"
      ]
     },
     "execution_count": 6,
     "metadata": {},
     "output_type": "execute_result"
    }
   ],
   "source": [
    "#question 12\n",
    "#what do the \\d, \\w, and \\s shorthand character classes signify in regular expression\n",
    "\"\"\"\\d mean single digit ,\\w means signle words,\\s means single space are shrtened classes\"\"\""
   ]
  },
  {
   "cell_type": "code",
   "execution_count": 7,
   "id": "2256cad4",
   "metadata": {},
   "outputs": [
    {
     "data": {
      "text/plain": [
       "'The .+? form requires at least one character to match, while .*? can match none at all.\\nBoth operations are non-greedy, so they will try to find the shortest possible matching string.'"
      ]
     },
     "execution_count": 7,
     "metadata": {},
     "output_type": "execute_result"
    }
   ],
   "source": [
    "#question 13\n",
    "#What is the difference between .+? and .*?\n",
    "\"\"\"The .+? form requires at least one character to match, while .*? can match none at all.\n",
    "Both operations are non-greedy, so they will try to find the shortest possible matching string.\"\"\""
   ]
  },
  {
   "cell_type": "code",
   "execution_count": 8,
   "id": "0da3ef9e",
   "metadata": {},
   "outputs": [
    {
     "data": {
      "text/plain": [
       "'for uppercase class(A-Z )while for lowercase class (a-z)expression'"
      ]
     },
     "execution_count": 8,
     "metadata": {},
     "output_type": "execute_result"
    }
   ],
   "source": [
    "#question 14\n",
    "#What is the syntax for matching both numbers and lowercase letters with a character class?\n",
    "\"\"\"for uppercase class(A-Z )while for lowercase class (a-z)expression\"\"\""
   ]
  },
  {
   "cell_type": "code",
   "execution_count": 9,
   "id": "da8fcf42",
   "metadata": {},
   "outputs": [
    {
     "data": {
      "text/plain": [
       "'Passing re.I or re.IGNORECASE as the second argument to re.compile() will make the matching case insensitive.'"
      ]
     },
     "execution_count": 9,
     "metadata": {},
     "output_type": "execute_result"
    }
   ],
   "source": [
    "#question 15\n",
    "#What is the procedure for making a normal expression in regax case insensitive?\n",
    "\"\"\"Passing re.I or re.IGNORECASE as the second argument to re.compile() will make the matching case insensitive.\"\"\""
   ]
  },
  {
   "cell_type": "code",
   "execution_count": 10,
   "id": "de6cd681",
   "metadata": {},
   "outputs": [
    {
     "data": {
      "text/plain": [
       "'the . character normally matches any character except the newline character. \\nIf re.DOTALL is passed as the second argument to re.compile(), \\nthen the dot will also match newline characters.'"
      ]
     },
     "execution_count": 10,
     "metadata": {},
     "output_type": "execute_result"
    }
   ],
   "source": [
    "#question 16\n",
    "#What does the . character normally match? What does it match if re.DOTALL is passed as 2nd\n",
    "#argument in re.compile()?\n",
    "\"\"\"the . character normally matches any character except the newline character. \n",
    "If re.DOTALL is passed as the second argument to re.compile(), \n",
    "then the dot will also match newline characters.\"\"\""
   ]
  },
  {
   "cell_type": "code",
   "execution_count": null,
   "id": "f0b413e1",
   "metadata": {},
   "outputs": [],
   "source": [
    "#question 17\n",
    "#If numReg = re.compile(r&#39;\\d+&#39;), what will numRegex.sub('X';, '11 drummers', '10 pipers', five rings, 4\n",
    "#hen) return?\n",
    "\"\"\"X drummers, X pipers, five rings, X hens'\"\"\""
   ]
  },
  {
   "cell_type": "code",
   "execution_count": 15,
   "id": "294fe0cf",
   "metadata": {},
   "outputs": [
    {
     "data": {
      "text/plain": [
       "'The re.VERBOSE argument allows you to add whitespace and comments to the string passed to re.compile('"
      ]
     },
     "execution_count": 15,
     "metadata": {},
     "output_type": "execute_result"
    }
   ],
   "source": [
    "#question 18\n",
    "#What does passing re.VERBOSE as the second argument to re.compile() allow you to do?\n",
    "\"\"\"The re.VERBOSE argument allows you to add whitespace and comments to the string passed to re.compile(\"\"\""
   ]
  },
  {
   "cell_type": "code",
   "execution_count": null,
   "id": "4a0f68f7",
   "metadata": {},
   "outputs": [],
   "source": [
    "#question 19\n",
    "\"\"\"How would you write a regex that matches a number with commas for every three digits? It must match the following:\n",
    "'42'\n",
    "'1,234'\n",
    "'6,368,745'\"\"\"\n",
    "\"\"\"re.compile(r'^\\d{1,3}(,\\d{3})*$') will create this regex, but other regex strings can produce a similar regular expressio\"\"\""
   ]
  },
  {
   "cell_type": "code",
   "execution_count": null,
   "id": "9c1cd35d",
   "metadata": {},
   "outputs": [],
   "source": [
    "#question 20\n",
    "#How would you write a regex that matches the full name of someone whose last name is Nakamoto? \n",
    "#You can assume that the first name that comes before it will always be one word that begins with a capital letter. \n",
    "#The regex must match the following:'Satoshi Nakamoto''Alice Nakamoto'\n",
    "#'Robocop Nakamoto'\n",
    "#but not the following:\n",
    "#'satoshi Nakamoto' (where the first name is not capitalized)\n",
    "#'Mr. Nakamoto' (where the preceding word has a nonletter character)\n",
    "#'Nakamoto' (which has no first name)\n",
    "#'Satoshi nakamoto' (where Nakamoto is not capitalized)\n",
    "\"\"\"re.compile(r'[A-Z][a-z]*\\sNakamoto')\"\"\""
   ]
  },
  {
   "cell_type": "code",
   "execution_count": null,
   "id": "f7fb445d",
   "metadata": {},
   "outputs": [],
   "source": [
    "#question21\n",
    "\"\"\"22. How would you write a regex that matches a sentence where the first word is either Alice, Bob,\n",
    "or Carol; the second word is either eats, pets, or throws; the third word is apples, cats, or baseballs;\n",
    "and the sentence ends with a period? This regex should be case-insensitive. It must match the\n",
    "following:\n",
    "&#39;Alice eats apples.;\n",
    "&#39;Bob pets cats.;\n",
    "&#39;Carol throws baseballs;\n",
    "&#39;Alice throws Apples.;\n",
    "&#39;BOB EATS CATS.&#39;\n",
    "but not the following:\n",
    "&#39;RoboCop eats apples.;\n",
    "&#39;ALICE THROWS FOOTBALLS.;\n",
    "&#39;Carol eats 7 cats.\"\"\"\n",
    "\"\"\"re.compile(r'(Alice|Bob|Carol)\\s(eats|pets|throws)\\s(apples|cats|baseballs)\\.', re.IGNORECASE)\"\"\""
   ]
  }
 ],
 "metadata": {
  "kernelspec": {
   "display_name": "Python 3 (ipykernel)",
   "language": "python",
   "name": "python3"
  },
  "language_info": {
   "codemirror_mode": {
    "name": "ipython",
    "version": 3
   },
   "file_extension": ".py",
   "mimetype": "text/x-python",
   "name": "python",
   "nbconvert_exporter": "python",
   "pygments_lexer": "ipython3",
   "version": "3.9.7"
  }
 },
 "nbformat": 4,
 "nbformat_minor": 5
}
